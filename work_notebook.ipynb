{
 "cells": [
  {
   "cell_type": "code",
   "execution_count": null,
   "id": "5246b25a",
   "metadata": {},
   "outputs": [],
   "source": [
    "import pandas as pd\n",
    "\n",
    "data = pd.read_csv(\"DATA/IMDB Dataset.csv\")\n",
    "data"
   ]
  },
  {
   "cell_type": "code",
   "execution_count": null,
   "id": "9ba46209",
   "metadata": {},
   "outputs": [],
   "source": [
    "from pipeline_module import CustomPipeline\n",
    "from task_reference import TaskReference\n",
    "\n",
    "pipeline = CustomPipeline()\n",
    "pipeline.tasks.append(TaskReference.REMOVEHTMLTAG)\n",
    "pipeline.tasks.append(TaskReference.CONVERTTOLOWERCASE)\n",
    "pipeline.tasks.append(TaskReference.REMOVENUMBER)\n",
    "pipeline.tasks.append(TaskReference.CONVERTNUMERICALVALUES)\n",
    "pipeline.tasks.append(TaskReference.REMOVEPUNCTUATION)\n",
    "pipeline.tasks.append(TaskReference.REMOVEWHITESPACE)\n",
    "pipeline.tasks.append(TaskReference.TOKENIZE)\n",
    "pipeline.tasks.append(TaskReference.REMOVESTOPWORDS)\n",
    "\n",
    "data2 = pipeline.do_work(data, \"review\")\n",
    "data2\n",
    "\n"
   ]
  },
  {
   "cell_type": "code",
   "execution_count": null,
   "id": "4e4f148b",
   "metadata": {},
   "outputs": [],
   "source": []
  }
 ],
 "metadata": {
  "kernelspec": {
   "display_name": ".venv",
   "language": "python",
   "name": "python3"
  },
  "language_info": {
   "codemirror_mode": {
    "name": "ipython",
    "version": 3
   },
   "file_extension": ".py",
   "mimetype": "text/x-python",
   "name": "python",
   "nbconvert_exporter": "python",
   "pygments_lexer": "ipython3",
   "version": "3.12.3"
  }
 },
 "nbformat": 4,
 "nbformat_minor": 5
}
